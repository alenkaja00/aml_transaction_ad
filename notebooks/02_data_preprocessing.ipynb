{
 "cells": [
  {
   "cell_type": "markdown",
   "id": "231b789a",
   "metadata": {},
   "source": [
    "## Data Preprocessing"
   ]
  },
  {
   "cell_type": "code",
   "execution_count": null,
   "id": "6844f7e6",
   "metadata": {},
   "outputs": [],
   "source": [
    "import pandas as pd\n",
    "import igraph as ig"
   ]
  },
  {
   "cell_type": "code",
   "execution_count": null,
   "id": "29966971",
   "metadata": {},
   "outputs": [],
   "source": [
    "DATASET = \"HI-Small\" ## either HI-Small or LI-Small\n",
    "DATA_PATH = f\"../datasets/synthetic/02_preprocessed/{DATASET}-transactions\"\n",
    "CASES_PATH = f\"../datasets/synthetic/02_preprocessed/{DATASET}-patterns/{DATASET}-cases.parquet\"\n",
    "PATTERN_PATH = f\"../datasets/synthetic/02_preprocessed/{DATASET}-patterns.csv\""
   ]
  },
  {
   "cell_type": "code",
   "execution_count": null,
   "id": "d9cca740",
   "metadata": {},
   "outputs": [],
   "source": [
    "transactions = pd.read_parquet(DATA_PATH)\n",
    "\n",
    "cases = pd.read_parquet(CASES_PATH)\n",
    "\n",
    "starting_transactions = cases.shape[0]\n",
    "starting_patterns = cases['id'].nunique()\n",
    "original_pattern_ids = list(cases['id'].unique())\n",
    "\n",
    "# Retain only patterns having > 1 transaction\n",
    "cases_filtered = cases.groupby('id').filter(lambda x: len(x) > 1)\n",
    "cases_filtered['target'] = cases_filtered['target'].str.slice(0, 8)\n",
    "cases_filtered['source'] = cases_filtered['source'].str.slice(0, 8)\n",
    "\n",
    "def is_connected_component(df):\n",
    "    g = ig.Graph.TupleList(df[['source', 'target']].itertuples(index=False), directed=False)\n",
    "    return len(g.connected_components(mode=\"weak\")) == 1\n",
    "\n",
    "connected_pattern_ids = []\n",
    "unconnected_pattern_ids = []\n",
    "\n",
    "# Retain only the patterns which form weakly connected components\n",
    "for _id, group in cases_filtered.groupby('id'):\n",
    "    if is_connected_component(group):\n",
    "        connected_pattern_ids.append(_id)\n",
    "    else:\n",
    "        unconnected_pattern_ids.append(_id)\n",
    "        \n",
    "cases_filtered = cases_filtered[cases_filtered['id'].isin(connected_pattern_ids)]"
   ]
  },
  {
   "cell_type": "code",
   "execution_count": null,
   "id": "e8d5e598",
   "metadata": {},
   "outputs": [],
   "source": [
    "laundering_ids = list(transactions[transactions['is_laundering']==1]['transaction_id'].values)\n",
    "pattern_ids = list(cases_filtered['transaction_id'].values)\n",
    "\n",
    "ids_to_drop = set(laundering_ids).difference(pattern_ids)\n",
    "transactions = transactions[~transactions['transaction_id'].isin(ids_to_drop)]"
   ]
  },
  {
   "cell_type": "code",
   "execution_count": null,
   "id": "bdc65adb",
   "metadata": {},
   "outputs": [],
   "source": [
    "# Utility: keep the sources and the target ids to 8 chars in order to be unique\n",
    "transactions.loc[:, 'target'] = transactions['target'].str.slice(0, 8)\n",
    "transactions.loc[:, 'source'] = transactions['source'].str.slice(0, 8)"
   ]
  },
  {
   "cell_type": "code",
   "execution_count": null,
   "id": "6e219550",
   "metadata": {},
   "outputs": [],
   "source": [
    "df_source = transactions.groupby('source').agg(\n",
    "    count=('source', 'size'),\n",
    "    sum_is_laundering=('is_laundering', 'sum')\n",
    ").reset_index()\n",
    "\n",
    "df_target = transactions.groupby('target').agg(\n",
    "    count=('target', 'size'),\n",
    "    sum_is_laundering=('is_laundering', 'sum')\n",
    ").reset_index()\n",
    "\n",
    "\n",
    "# Retain the sources and targets which have less than 500 transactions each\n",
    "t_src = 500\n",
    "t_dst = 500\n",
    "valid_sources = list(df_source[df_source['count']<=t_src]['source'].values)\n",
    "valid_targets = list(df_target[df_target['count']<=t_dst]['target'].values)"
   ]
  },
  {
   "cell_type": "code",
   "execution_count": null,
   "id": "b5a73ac6",
   "metadata": {},
   "outputs": [],
   "source": [
    "transactions_filtered = transactions[\n",
    "    (transactions['source'].isin(valid_sources)) & (transactions['target'].isin(valid_targets))\n",
    "]"
   ]
  },
  {
   "cell_type": "code",
   "execution_count": null,
   "id": "5b4a16f5-fa26-4c80-9134-1f49a5a2cea8",
   "metadata": {},
   "outputs": [],
   "source": [
    "shape_laundering = transactions_filtered[transactions_filtered['is_laundering']==1].shape[0]\n",
    "shape_patterns = cases_filtered.shape[0]\n",
    "assert shape_laundering == shape_patterns"
   ]
  },
  {
   "cell_type": "code",
   "execution_count": null,
   "id": "c3180ddd",
   "metadata": {},
   "outputs": [],
   "source": [
    "transactions_filtered.to_parquet(DATA_PATH + \".parquet\")\n",
    "cases_filtered.to_csv(PATTERN_PATH, index=False)"
   ]
  }
 ],
 "metadata": {
  "kernelspec": {
   "display_name": "Python 3 (ipykernel)",
   "language": "python",
   "name": "python3"
  },
  "language_info": {
   "codemirror_mode": {
    "name": "ipython",
    "version": 3
   },
   "file_extension": ".py",
   "mimetype": "text/x-python",
   "name": "python",
   "nbconvert_exporter": "python",
   "pygments_lexer": "ipython3",
   "version": "3.12.7"
  }
 },
 "nbformat": 4,
 "nbformat_minor": 5
}
